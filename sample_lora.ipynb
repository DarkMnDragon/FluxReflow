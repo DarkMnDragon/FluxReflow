{
 "cells": [
  {
   "cell_type": "code",
   "execution_count": 1,
   "metadata": {},
   "outputs": [],
   "source": [
    "import subprocess\n",
    "import os\n",
    "\n",
    "result = subprocess.run('bash -c \"source /etc/network_turbo && env | grep proxy\"', shell=True, capture_output=True, text=True)\n",
    "output = result.stdout\n",
    "for line in output.splitlines():\n",
    "    if '=' in line:\n",
    "        var, value = line.split('=', 1)\n",
    "        os.environ[var] = value"
   ]
  },
  {
   "cell_type": "code",
   "execution_count": null,
   "metadata": {},
   "outputs": [],
   "source": [
    "import torch\n",
    "import math\n",
    "import matplotlib.pyplot as plt\n",
    "\n",
    "from PIL import Image\n",
    "from diffusers import FluxPipeline\n",
    "from torch import Tensor\n",
    "from torchvision import transforms\n",
    "\n",
    "DTYPE = torch.bfloat16\n",
    "pipe = FluxPipeline.from_pretrained(\"black-forest-labs/FLUX.1-dev\", torch_dtype=DTYPE)\n",
    "pipe.to(\"cuda\")"
   ]
  },
  {
   "cell_type": "code",
   "execution_count": 3,
   "metadata": {},
   "outputs": [],
   "source": [
    "@torch.inference_mode()\n",
    "def decode_imgs(latents, pipeline):\n",
    "    imgs = (latents / pipeline.vae.config.scaling_factor) + pipeline.vae.config.shift_factor\n",
    "    imgs = pipeline.vae.decode(imgs)[0]\n",
    "    imgs = pipeline.image_processor.postprocess(imgs, output_type=\"pil\")\n",
    "    return imgs\n",
    "\n",
    "@torch.inference_mode()\n",
    "def encode_imgs(imgs, pipeline):\n",
    "    latents = pipeline.vae.encode(imgs).latent_dist.sample()\n",
    "    latents = (latents - pipeline.vae.config.shift_factor) * pipeline.vae.config.scaling_factor\n",
    "    latents = latents.to(dtype=DTYPE)\n",
    "    return latents\n",
    "\n",
    "def get_noise(\n",
    "    num_samples: int,\n",
    "    height: int,\n",
    "    width: int,\n",
    "    device: torch.device,\n",
    "    dtype: torch.dtype,\n",
    "    seed: int,\n",
    "):\n",
    "    return torch.randn(  # [B, 16, H // 8, W // 8], latents after VAE\n",
    "        num_samples,\n",
    "        16,\n",
    "        2 * math.ceil(height / 16),\n",
    "        2 * math.ceil(width / 16),\n",
    "        device=device,\n",
    "        dtype=dtype,\n",
    "        generator=torch.Generator(device=device).manual_seed(seed),\n",
    "    )"
   ]
  },
  {
   "cell_type": "code",
   "execution_count": null,
   "metadata": {},
   "outputs": [],
   "source": [
    "def time_shift(mu: float, sigma: float, t: Tensor):\n",
    "    return math.exp(mu) / (math.exp(mu) + (1 / t - 1) ** sigma)\n",
    "\n",
    "def get_lin_function(\n",
    "    x1: float = 256, y1: float = 0.5, x2: float = 4096, y2: float = 1.15\n",
    "):\n",
    "    m = (y2 - y1) / (x2 - x1)\n",
    "    b = y1 - m * x1\n",
    "    return lambda x: m * x + b\n",
    "\n",
    "def get_schedule(\n",
    "    num_steps: int,\n",
    "    image_seq_len: int,\n",
    "    base_shift: float = 0.5,\n",
    "    max_shift: float = 1.15,\n",
    "    shift: bool = True,\n",
    ") -> list[float]:\n",
    "    timesteps = torch.linspace(1, 0, num_steps + 1)\n",
    "    if shift:\n",
    "        mu = get_lin_function(y1=base_shift, y2=max_shift)(image_seq_len)\n",
    "        timesteps = time_shift(mu, 1.0, timesteps)\n",
    "    return timesteps.tolist()\n",
    "\n",
    "timesteps = get_schedule( # shape: [num_inference_steps]\n",
    "            num_steps=4,\n",
    "            image_seq_len=(1024 // 16) * (1024 // 16), # vae_scale_factor = 16\n",
    "            shift=True,  # Set True for Flux-dev, False for Flux-schnell\n",
    "        )\n",
    "\n",
    "print(timesteps)"
   ]
  },
  {
   "cell_type": "code",
   "execution_count": 5,
   "metadata": {},
   "outputs": [],
   "source": [
    "@torch.inference_mode()\n",
    "def forward_denoise(pipeline, num_steps, prompt, height, width, guidance_scale=3.5, seed=0):\n",
    "    timesteps = get_schedule( # shape: [num_inference_steps]\n",
    "            num_steps=num_steps,\n",
    "            image_seq_len=(height // 16) * (width // 16), # vae_scale_factor = 16\n",
    "            shift=True,  # Set True for Flux-dev, False for Flux-schnell\n",
    "        )\n",
    "    \n",
    "    prompt_embeds, pooled_prompt_embeds, text_ids = pipeline.encode_prompt(prompt=prompt, prompt_2=prompt)\n",
    "\n",
    "    noise = get_noise( # save, shape [num_samples, 16, resolution // 8, resolution // 8]\n",
    "        num_samples=1,\n",
    "        height=height,\n",
    "        width=width,\n",
    "        device=\"cuda\",\n",
    "        dtype=DTYPE,\n",
    "        seed=seed,\n",
    "    )\n",
    "\n",
    "    latent_image_ids = FluxPipeline._prepare_latent_image_ids(\n",
    "        noise.shape[0],\n",
    "        noise.shape[2],\n",
    "        noise.shape[3],\n",
    "        noise.device,\n",
    "        DTYPE,\n",
    "    )\n",
    "\n",
    "    packed_latents = FluxPipeline._pack_latents( # shape [num_samples, (resolution // 16 * resolution // 16), 16 * 2 * 2]\n",
    "        noise,\n",
    "        batch_size=noise.shape[0],\n",
    "        num_channels_latents=noise.shape[1],\n",
    "        height=noise.shape[2],\n",
    "        width=noise.shape[3],\n",
    "    )\n",
    "    \n",
    "    # Reversed denoising loop in latent space\n",
    "    with pipeline.progress_bar(total=len(timesteps)-1) as progress_bar:\n",
    "        for t_curr, t_prev in zip(timesteps[:-1], timesteps[1:]):\n",
    "            t_vec = torch.full((packed_latents.shape[0],), t_curr, dtype=packed_latents.dtype, device=packed_latents.device)\n",
    "            guidance_vec = torch.full((packed_latents.shape[0],), guidance_scale, device=packed_latents.device, dtype=packed_latents.dtype)\n",
    "            print(f\"time step: {t_vec[0]}\")\n",
    "            pred = pipeline.transformer(\n",
    "                    hidden_states=packed_latents, # shape: [batch_size, seq_len, num_channels_latents], e.g. [1, 4096, 64] for 1024x1024\n",
    "                    timestep=t_vec,        # range: [0, 1]\n",
    "                    guidance=guidance_vec, # scalar guidance values for each sample in the batch\n",
    "                    pooled_projections=pooled_prompt_embeds, # CLIP text embedding\n",
    "                    encoder_hidden_states=prompt_embeds,     # T5 text embedding\n",
    "                    txt_ids=text_ids,\n",
    "                    img_ids=latent_image_ids,\n",
    "                    joint_attention_kwargs=None,\n",
    "                    return_dict=pipeline,\n",
    "                )[0]\n",
    "            packed_latents = packed_latents + (t_prev - t_curr) * pred\n",
    "            progress_bar.update()\n",
    "    \n",
    "    img_latents = FluxPipeline._unpack_latents( # save, shape [num_samples, 16, resolution//8, resolution//8]\n",
    "            packed_latents,\n",
    "            height=height,\n",
    "            width=width,\n",
    "            vae_scale_factor=pipeline.vae_scale_factor,\n",
    "    )\n",
    "    return img_latents"
   ]
  },
  {
   "cell_type": "code",
   "execution_count": null,
   "metadata": {},
   "outputs": [],
   "source": [
    "# prompt = 'A high resolution photo of a scientist, white background, photo-realistic, high-detail'\n",
    "\n",
    "# prompt = 'A vibrant, starry night sky illuminates a lively street café, with warm golden lights spilling from its windows. The café is nestled on a narrow cobblestone street, surrounded by rustic buildings with swirling, textured brushstrokes. Bold, dynamic colors—deep blues and glowing yellows—fill the scene. People are seated at small round tables, sipping coffee, and chatting. The atmosphere is cozy and inviting, yet full of movement and energy, capturing the timeless essence of a Van Gogh painting.'\n",
    "\n",
    "# prompt = 'An exquisite gothic queen vampiress with dark blue hair and crimson red eyes: Her sensuous white skin gleams in the atmospheric, dense fog, creating an epic and dramatic mood. This hyper-realistic portrait is filled with morbid beauty, from her gothicattire to the intense lighting that highlights every intricate detail. The scene combines glamour with dark, mysterious elements, blending fantasy and horror in a visually stunning way.'\n",
    "\n",
    "# prompt = 'Jewelry design, a ring with bright rose-cut blue diamonds, surrounded by small lily-of-the-valley flower-shaped diamonds, golden stems form the ring of the ring. The center of the base is a beautiful rose gold, with a detachable black ring on both sides'\n",
    "\n",
    "# prompt = \"Sci-fi entity with a mix of organic and mechanical elements: This oil painting-style portrait features a figure with a heavily brush-stroked texture, focusing on the upper body. The entity's gaze is locked, evoking a sense of horror tied to technology. The black and chrome color scheme, inspired by Tsutomu Nihei’s dystopian environments, creates a chaotic, hyper-detailed composition filled with raw, ultra-realistic elements.\",\n",
    "\n",
    "# prompt =  \"Two cats dressed as samurais engaging in a duel, inspired by Akira Kurosawa's movie style. The photorealistic artwork is rich in high-detail textures, capturing the intensity and elegance of their battle. The scene is both humorous and masterful, blending realism with fantasy.\",\n",
    "\n",
    "# prompt =  \"A red race car rendered in the style of Sam Spratt, blending historical illustrations with old masters' monochromatic realism. Influences from Genndy Tartakovsky and Masaccio give the car a soggy, gritty texture, evoking a sense of timeless speed and power.\"\n",
    "\n",
    "\n",
    "# prompt = \"An Asian girl wearing an elegant top or dress, set against a vibrant, neon-infused night. The style draws from iconic album covers with soft-focus portraits, combining light purple and amber hues. The scene feels both modern and timeless, with chicano-inspired elements adding depth to the image.\", # 24\n",
    "\n",
    "# prompt = \"Close-up of a red rose breaking through a cube of cracked ice. The frosted surface glows with a cinematic light, with blood dripping from the petals, creating a stark contrast. The melting ice enhances the Valentine’s Day theme, with sharp focus and intricate, dramatic details.\" # 123\n",
    "\n",
    "prompt = \"A painting of a beautiful woman in an abstract, non-representational style. The image uses bold colors and shapes to express emotions and feelings. The imaginative composition features stunning details, blending artistic elements into a visually captivating piece.\" # 123\n",
    "\n",
    "# prompt = \"Minimal home office design with warm sunlight and artificial lighting. The soft atmosphere is enhanced by carefully placed objets, creating a clean, inviting, and warm workspace with a focus on simplicity and functionality.\" # 8\n",
    "\n",
    "# prompt = \"Front view of a Mediterranean terrace captured at sunset. Terracotta tiles, wrought iron details, and lush plantings create a warm, inviting atmosphere. Shot with a Panasonic Lumix S1R, 50mm f/1.4 lens, capturing the tranquil ambiance perfectly.\" # 256\n",
    "\n",
    "# prompt = \"A steampunk city with towering skyscrapers and intricate clockwork mechanisms. Steam billows from chimneys, and airships navigate skylanes above. The city is alive with gears and pistons, all rendered in 32K UHD with dynamic angles and highly detailed professional photography.\" # 213\n",
    "\n",
    "# prompt = \"A hummingbird flying near a flower in a forest. The masterpiece captures the dynamic motion of the bird, with natural light casting a soft glow on its feathers. The photorealistic scene is hyper-detailed, from the bird’s delicate wings to the vibrant surroundings, evoking a sense of wonder in wildlife photography.\" # 9\n",
    "\n",
    "# prompt = \"A hyper-detailed resin ring, featuring an intricate sci-fi city inside, illuminated by glowing LEDs. The ring is set against a cyberpunk background with vivid colors and futuristic elements, blending jewelry design with imaginative, sci-fi architecture.\" # 284\n",
    "\n",
    "# prompt = \"A cinematic shot of a cyberpunk industrial city, featuring tall futuristic buildings illuminated by neon lights. The scene is set at sunset, with warm colors and high detail. The high-resolution image captures the striking contrast between modern architecture and the glowing futuristic skyline.\" # 375\n",
    "\n",
    "# prompt = \"Photorealistic black semi-glossy retail shop facade, captured with a Canon EOS 5D. The geometric outline of the building contrasts with the motion-blurred crowd and car tail lights. Dramatic lighting effects highlight the sleek, award-winning design in a rainy, ultra-realistic scene.\" # 5\n",
    "\n",
    "# prompt = \"An 80s synthwave-inspired purple cat wearing bright orange sunglasses. The scene features a vivid sunset in the background, with neon colors and high-detail design, creating a nostalgic, futuristic vibe with a playful, retro twist.\" # 39\n",
    "\n",
    "# prompt = \"3D rendering of a Gundam face from the front, with a tactile paper-work style. The vibrant color palette includes burgundy, yellow, and blue. Emphasis on rough-textured paper, creating a handmade, masterpiece-like effect.\" # 326\n",
    "\n",
    "# prompt = \"A poster titled 'A Family Veterinarian,' featuring a watercolor portrait of a West Highland Terrier. The barnboard background adds warmth, with the tagline 'Caring is our duty' below, evoking trust and compassion in this heartwarming design.\" # 13\n",
    "\n",
    "# prompt = \"A lion painted in whimsical watercolors, featuring a mix of dark yellow, green, and dark purple tones. The characterful pen and ink style, combined with light orange and navy colors, creates a dynamic, bold animal portrait with a surreal twist.\" # 283\n",
    "\n",
    "steps_list = [4, 6, 8, 12, 16, 28, 50]\n",
    "\n",
    "# steps_list = [4]\n",
    "\n",
    "fig, axes = plt.subplots(2, 4, figsize=(14, 7))\n",
    "\n",
    "for i, num_steps in enumerate(steps_list):\n",
    "    img_latents = forward_denoise(pipe, num_steps=num_steps, prompt=prompt, \n",
    "                                  height=1024, width=1024, guidance_scale=3.5, seed=123) # 66\n",
    "    out = decode_imgs(img_latents, pipe)[0]\n",
    "    \n",
    "    # ax = axes[i // 4, i % 4]\n",
    "    # ax.imshow(out)\n",
    "    # ax.set_title(f\"{num_steps} Steps\")\n",
    "    # ax.axis('off') \n",
    "    \n",
    "    # out.save(f\"./aqua_imgs/lion_{num_steps}_steps.png\")\n",
    "    out.save(f\"./aqua_imgs/woman_paint_reflow_{num_steps}_steps.png\")\n",
    "\n",
    "# fig.suptitle(\"schewed t training, schewed t inference, 3rf\", fontsize=16)\n",
    "# plt.tight_layout()\n",
    "# plt.show()"
   ]
  },
  {
   "cell_type": "code",
   "execution_count": 54,
   "metadata": {},
   "outputs": [
    {
     "data": {
      "application/vnd.jupyter.widget-view+json": {
       "model_id": "bad8bdc6429a4d8d8807dd6a4b61466e",
       "version_major": 2,
       "version_minor": 0
      },
      "text/plain": [
       "  0%|          | 0/4 [00:00<?, ?it/s]"
      ]
     },
     "metadata": {},
     "output_type": "display_data"
    },
    {
     "name": "stdout",
     "output_type": "stream",
     "text": [
      "time step: 1.0\n",
      "time step: 0.90625\n",
      "time step: 0.7578125\n",
      "time step: 0.51171875\n"
     ]
    },
    {
     "data": {
      "application/vnd.jupyter.widget-view+json": {
       "model_id": "d46e1df215194e9c99cc6377b7bc3ee3",
       "version_major": 2,
       "version_minor": 0
      },
      "text/plain": [
       "  0%|          | 0/6 [00:00<?, ?it/s]"
      ]
     },
     "metadata": {},
     "output_type": "display_data"
    },
    {
     "name": "stdout",
     "output_type": "stream",
     "text": [
      "time step: 1.0\n",
      "time step: 0.94140625\n",
      "time step: 0.86328125\n",
      "time step: 0.7578125\n",
      "time step: 0.61328125\n",
      "time step: 0.38671875\n"
     ]
    },
    {
     "data": {
      "application/vnd.jupyter.widget-view+json": {
       "model_id": "2830f64503b94107b85331dcda6662f9",
       "version_major": 2,
       "version_minor": 0
      },
      "text/plain": [
       "  0%|          | 0/8 [00:00<?, ?it/s]"
      ]
     },
     "metadata": {},
     "output_type": "display_data"
    },
    {
     "name": "stdout",
     "output_type": "stream",
     "text": [
      "time step: 1.0\n",
      "time step: 0.95703125\n",
      "time step: 0.90625\n",
      "time step: 0.83984375\n",
      "time step: 0.7578125\n",
      "time step: 0.65625\n",
      "time step: 0.51171875\n",
      "time step: 0.310546875\n"
     ]
    },
    {
     "data": {
      "application/vnd.jupyter.widget-view+json": {
       "model_id": "b878fc1cb1af4984a655b47e290ae56a",
       "version_major": 2,
       "version_minor": 0
      },
      "text/plain": [
       "  0%|          | 0/12 [00:00<?, ?it/s]"
      ]
     },
     "metadata": {},
     "output_type": "display_data"
    },
    {
     "name": "stdout",
     "output_type": "stream",
     "text": [
      "time step: 1.0\n",
      "time step: 0.97265625\n",
      "time step: 0.94140625\n",
      "time step: 0.90625\n",
      "time step: 0.86328125\n",
      "time step: 0.81640625\n",
      "time step: 0.7578125\n",
      "time step: 0.69140625\n",
      "time step: 0.61328125\n",
      "time step: 0.51171875\n",
      "time step: 0.38671875\n",
      "time step: 0.22265625\n"
     ]
    },
    {
     "data": {
      "application/vnd.jupyter.widget-view+json": {
       "model_id": "7a35c5afb1ec437d96f6fe07e6118ef2",
       "version_major": 2,
       "version_minor": 0
      },
      "text/plain": [
       "  0%|          | 0/16 [00:00<?, ?it/s]"
      ]
     },
     "metadata": {},
     "output_type": "display_data"
    },
    {
     "name": "stdout",
     "output_type": "stream",
     "text": [
      "time step: 1.0\n",
      "time step: 0.98046875\n",
      "time step: 0.95703125\n",
      "time step: 0.93359375\n",
      "time step: 0.90625\n",
      "time step: 0.875\n",
      "time step: 0.83984375\n",
      "time step: 0.80078125\n",
      "time step: 0.7578125\n",
      "time step: 0.7109375\n",
      "time step: 0.65625\n",
      "time step: 0.58984375\n",
      "time step: 0.51171875\n",
      "time step: 0.421875\n",
      "time step: 0.310546875\n",
      "time step: 0.173828125\n"
     ]
    },
    {
     "data": {
      "application/vnd.jupyter.widget-view+json": {
       "model_id": "7bd8e2996dc34581bb90fd6e3437b59a",
       "version_major": 2,
       "version_minor": 0
      },
      "text/plain": [
       "  0%|          | 0/28 [00:00<?, ?it/s]"
      ]
     },
     "metadata": {},
     "output_type": "display_data"
    },
    {
     "name": "stdout",
     "output_type": "stream",
     "text": [
      "time step: 1.0\n",
      "time step: 0.98828125\n",
      "time step: 0.9765625\n",
      "time step: 0.96484375\n",
      "time step: 0.94921875\n",
      "time step: 0.9375\n",
      "time step: 0.921875\n",
      "time step: 0.90625\n",
      "time step: 0.88671875\n",
      "time step: 0.87109375\n",
      "time step: 0.8515625\n",
      "time step: 0.828125\n",
      "time step: 0.80859375\n",
      "time step: 0.78515625\n",
      "time step: 0.7578125\n",
      "time step: 0.73046875\n",
      "time step: 0.703125\n",
      "time step: 0.671875\n",
      "time step: 0.63671875\n",
      "time step: 0.59765625\n",
      "time step: 0.55859375\n",
      "time step: 0.51171875\n",
      "time step: 0.462890625\n",
      "time step: 0.40625\n",
      "time step: 0.345703125\n",
      "time step: 0.275390625\n",
      "time step: 0.1953125\n",
      "time step: 0.1044921875\n"
     ]
    },
    {
     "data": {
      "application/vnd.jupyter.widget-view+json": {
       "model_id": "0b10a681482046879484ddac40a4a48a",
       "version_major": 2,
       "version_minor": 0
      },
      "text/plain": [
       "  0%|          | 0/50 [00:00<?, ?it/s]"
      ]
     },
     "metadata": {},
     "output_type": "display_data"
    },
    {
     "name": "stdout",
     "output_type": "stream",
     "text": [
      "time step: 1.0\n",
      "time step: 0.9921875\n",
      "time step: 0.98828125\n",
      "time step: 0.98046875\n",
      "time step: 0.97265625\n",
      "time step: 0.96484375\n",
      "time step: 0.95703125\n",
      "time step: 0.94921875\n",
      "time step: 0.94140625\n"
     ]
    }
   ],
   "source": [
    "# prompt = \"A AQUACOLTOK watercolor painting of a small, cozy café with outdoor seating, surrounded by flowering plants. The scene captures the charm of a quiet morning with the sun shining on the cobblestone streets. High quality, detailed architecture.\"\n",
    "\n",
    "# prompt = \"A AQUACOLTOK watercolor painting of UT campus\"\n",
    "\n",
    "# prompt = \"A photo of UT campus\"\n",
    "\n",
    "# prompt = \"A photo of a sks Corgi puppy swimming hardly underwater, best quality, high resolution\"  # 123\n",
    "\n",
    "# prompt = \"A photo of sks Corgi puppy wearing sunglasses, smiling at the camera, close-up look, highly detailed, ultra-realistic.\" # 33\n",
    "\n",
    "# prompt = \"A photo of sks Corgi puppy riding in a basket on a bicycle through a European village, high resolution, bright and cheerful.\" # 33\n",
    "\n",
    "# prompt = \"A photo of sks Corgi puppy in a futuristic city, standing on a hoverboard, cyberpunk style, highly detailed, vibrant colors.\" # 12\n",
    "\n",
    "prompt = \"A sks Corgi puppy wearing a superhero costume, flying through the city, dynamic pose, ultra-realistic, high resolution.\" # 12\n",
    "\n",
    "steps_list = [4, 6, 8, 12, 16, 28, 50]\n",
    "\n",
    "# steps_list = [4]\n",
    "\n",
    "for i, num_steps in enumerate(steps_list):\n",
    "    img_latents = forward_denoise(pipe, num_steps=num_steps, prompt=prompt, \n",
    "                                  height=1024, width=1024, guidance_scale=3.5, seed=12) # 66\n",
    "    out = decode_imgs(img_latents, pipe)[0]\n",
    "    \n",
    "    # out.save(f\"./aqua_imgs/lion_{num_steps}_steps.png\")\n",
    "    out.save(f\"./sksdog/sksdog_hero_{num_steps}step.png\")"
   ]
  },
  {
   "cell_type": "code",
   "execution_count": 44,
   "metadata": {},
   "outputs": [],
   "source": [
    "pipe.unload_lora_weights()\n",
    "\n",
    "pipe.load_lora_weights(\"/root/autodl-tmp/flux-lora-dreambooth/sksdog_reflow_3000.safetensors\", adapter_name=\"reflow\")"
   ]
  },
  {
   "cell_type": "code",
   "execution_count": 25,
   "metadata": {},
   "outputs": [],
   "source": [
    "pipe.unload_lora_weights()\n",
    "\n",
    "# pipe.load_lora_weights(\"/root/autodl-tmp/flux-lora-dreambooth/ghibsky-illustration.safetensors\", adapter_name=\"style\")\n",
    "# pipe.load_lora_weights(\"/root/autodl-tmp/flux-lora-dreambooth/2rf-skewed_t-accelerator.safetensors\", adapter_name=\"acclerator\")\n",
    "\n",
    "# pipe.set_adapters([\"style\", \"acclerator\"], adapter_weights=[1., 1.])\n",
    "\n",
    "# pipe.fuse_lora(adapter_names=[\"accelerate\", \"water\"], lora_scale=1.0)"
   ]
  },
  {
   "cell_type": "code",
   "execution_count": null,
   "metadata": {},
   "outputs": [],
   "source": [
    "# prompt = \"GHIBSKY style, a cat on a windowsill gazing out at a starry night sky and distant city lights\" # seed = 123\n",
    "\n",
    "# prompt = \"GHIBSKY style, an orange Lamborghini driving down a hill road at night with a beautiful ocean view in the background, side view, no text\" # 123\n",
    "\n",
    "# prompt = \"GHIBSKY style, cozy mountain cabin covered in snow, with smoke curling from the chimney and a warm, inviting light spilling through the windows\" # 836\n",
    "\n",
    "steps_list = [4, 8, 16, 32]\n",
    "\n",
    "# steps_list = [2, 32]\n",
    "\n",
    "# 32\n",
    "\n",
    "fig, axes = plt.subplots(1, len(steps_list), figsize=(10, 4), dpi=300)  # 调整尺寸以适应一行布局\n",
    "\n",
    "for i, num_steps in enumerate(steps_list):\n",
    "    img_latents = forward_denoise(pipe, num_steps=num_steps, prompt=prompt, \n",
    "                                  height=1024, width=768, guidance_scale=3.5, seed=8)\n",
    "    out = decode_imgs(img_latents, pipe)[0]\n",
    "    \n",
    "    ax = axes[i]\n",
    "    ax.imshow(out)\n",
    "    ax.set_title(f\"{num_steps} Steps\")  # 优化字体大小\n",
    "    ax.axis('off') \n",
    "\n",
    "fig.suptitle(\"TurboRender-LoRA\")\n",
    "# fig.suptitle(\"Flux-dev baseline\")\n",
    "plt.tight_layout() \n",
    "plt.show()\n"
   ]
  }
 ],
 "metadata": {
  "kernelspec": {
   "display_name": "base",
   "language": "python",
   "name": "python3"
  },
  "language_info": {
   "codemirror_mode": {
    "name": "ipython",
    "version": 3
   },
   "file_extension": ".py",
   "mimetype": "text/x-python",
   "name": "python",
   "nbconvert_exporter": "python",
   "pygments_lexer": "ipython3",
   "version": "3.10.8"
  }
 },
 "nbformat": 4,
 "nbformat_minor": 2
}
